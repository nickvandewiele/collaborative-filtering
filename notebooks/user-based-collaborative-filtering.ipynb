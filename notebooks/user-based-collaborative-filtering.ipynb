{
 "cells": [
  {
   "cell_type": "markdown",
   "metadata": {},
   "source": [
    "# User-based Collaborative Filtering using Pandas\n",
    "\n",
    "In this notebook I explore a technique to recommend items, called __collaborative filtering__.\n",
    "\n",
    "The basic idea of user-based collaborative filtering for recommender systems is the following:\n",
    "The task is to recommend items to a given user x. \n",
    "\n",
    "Which items do we recommend? First, we find N other users in the neighborhood of user x. Then, we predict the rating of unrated items by user x by using the ratings of the N other users. The recommended items must not be rated yet by user X. \n",
    "\n",
    "I use the __MovieLens 100K Dataset__ (https://grouplens.org/datasets/movielens/). Copy the dataset from http://files.grouplens.org/datasets/movielens/ml-100k.zip, and unzip it into a folder.\n",
    "\n",
    "2 files of the dataset are used:\n",
    "- `ml-100k/u.data` contains the 100k ratings.\n",
    "- `ml-100k/u.item` provides a mapping from a movie id to the name of the movie."
   ]
  },
  {
   "cell_type": "code",
   "execution_count": 1,
   "metadata": {
    "collapsed": false
   },
   "outputs": [],
   "source": [
    "# data manipulation\n",
    "import numpy as np\n",
    "import pandas as pd"
   ]
  },
  {
   "cell_type": "code",
   "execution_count": 2,
   "metadata": {
    "collapsed": true
   },
   "outputs": [],
   "source": [
    "# paths to the files. download them from http://files.grouplens.org/datasets/movielens/ml-100k.zip if you don't have them yet\n",
    "MOVIE_RATINGS_PATH = 'ml-100k/u.data'\n",
    "MOVIE_NAMES_PATH = 'ml-100k/u.item'\n",
    "\n",
    "# number of neighbors of user\n",
    "N_NEIGHBORS = 10\n",
    "\n",
    "# number of recommendations\n",
    "N_RECOMMENDATIONS = 5"
   ]
  },
  {
   "cell_type": "markdown",
   "metadata": {},
   "source": [
    "# Reading the Ratings Data"
   ]
  },
  {
   "cell_type": "code",
   "execution_count": 3,
   "metadata": {
    "collapsed": false
   },
   "outputs": [],
   "source": [
    "def read_ratings(path_to_ratings):\n",
    "    \"\"\"\n",
    "    Read the raw data of the movie ratings.\n",
    "    \n",
    "    Returns a list of tuples:\n",
    "    (user id, movie id, rating)\n",
    "    \"\"\"\n",
    "\n",
    "    data = []\n",
    "    with open(path_to_ratings) as f:\n",
    "        for line in f:\n",
    "            # user id | item id | rating | timestamp\n",
    "            pieces = line.split()\n",
    "            user_id = int(pieces[0])\n",
    "            movie_id = int(pieces[1])\n",
    "            rating = float(pieces[2])\n",
    "            data.append((user_id, movie_id, rating))\n",
    "        \n",
    "    return data"
   ]
  },
  {
   "cell_type": "code",
   "execution_count": 4,
   "metadata": {
    "collapsed": true
   },
   "outputs": [],
   "source": [
    "def read_names(path_to_names):\n",
    "    \"\"\"\n",
    "    Read the mapping of movie id -> movie name\n",
    "    \n",
    "    Returns a dictionary\n",
    "    {movie id -> movie name}\n",
    "    \"\"\"\n",
    "\n",
    "    data = {}\n",
    "    with open(path_to_names) as f:\n",
    "        for line in f:\n",
    "            # movie id | movie title | ...\n",
    "            pieces = line.split('|')\n",
    "            movie_id = int(pieces[0])\n",
    "            title = pieces[1]\n",
    "            data[movie_id] = title\n",
    "        \n",
    "    return data"
   ]
  },
  {
   "cell_type": "code",
   "execution_count": 5,
   "metadata": {
    "collapsed": false
   },
   "outputs": [
    {
     "data": {
      "text/html": [
       "<div>\n",
       "<table border=\"1\" class=\"dataframe\">\n",
       "  <thead>\n",
       "    <tr style=\"text-align: right;\">\n",
       "      <th></th>\n",
       "      <th>user</th>\n",
       "      <th>movie</th>\n",
       "      <th>rating</th>\n",
       "    </tr>\n",
       "  </thead>\n",
       "  <tbody>\n",
       "    <tr>\n",
       "      <th>0</th>\n",
       "      <td>196</td>\n",
       "      <td>242</td>\n",
       "      <td>3</td>\n",
       "    </tr>\n",
       "    <tr>\n",
       "      <th>1</th>\n",
       "      <td>186</td>\n",
       "      <td>302</td>\n",
       "      <td>3</td>\n",
       "    </tr>\n",
       "    <tr>\n",
       "      <th>2</th>\n",
       "      <td>22</td>\n",
       "      <td>377</td>\n",
       "      <td>1</td>\n",
       "    </tr>\n",
       "    <tr>\n",
       "      <th>3</th>\n",
       "      <td>244</td>\n",
       "      <td>51</td>\n",
       "      <td>2</td>\n",
       "    </tr>\n",
       "    <tr>\n",
       "      <th>4</th>\n",
       "      <td>166</td>\n",
       "      <td>346</td>\n",
       "      <td>1</td>\n",
       "    </tr>\n",
       "  </tbody>\n",
       "</table>\n",
       "</div>"
      ],
      "text/plain": [
       "   user  movie  rating\n",
       "0   196    242       3\n",
       "1   186    302       3\n",
       "2    22    377       1\n",
       "3   244     51       2\n",
       "4   166    346       1"
      ]
     },
     "execution_count": 5,
     "metadata": {},
     "output_type": "execute_result"
    }
   ],
   "source": [
    "ratings = read_ratings(MOVIE_RATINGS_PATH)\n",
    "ratings = pd.DataFrame(data=ratings, columns=['user', 'movie', 'rating'])#.sample(100, random_state=42)\n",
    "ratings = ratings.astype(int)\n",
    "ratings.head()"
   ]
  },
  {
   "cell_type": "code",
   "execution_count": 6,
   "metadata": {
    "collapsed": false
   },
   "outputs": [
    {
     "data": {
      "text/plain": [
       "1682"
      ]
     },
     "execution_count": 6,
     "metadata": {},
     "output_type": "execute_result"
    }
   ],
   "source": [
    "# number of unique movies\n",
    "ratings.movie.nunique()"
   ]
  },
  {
   "cell_type": "code",
   "execution_count": 7,
   "metadata": {
    "collapsed": false
   },
   "outputs": [
    {
     "data": {
      "text/plain": [
       "943"
      ]
     },
     "execution_count": 7,
     "metadata": {},
     "output_type": "execute_result"
    }
   ],
   "source": [
    "# number of unique users\n",
    "ratings.user.nunique()"
   ]
  },
  {
   "cell_type": "markdown",
   "metadata": {},
   "source": [
    "# Pick a random sample for testing purposes"
   ]
  },
  {
   "cell_type": "code",
   "execution_count": 8,
   "metadata": {
    "collapsed": false
   },
   "outputs": [],
   "source": [
    "sample = ratings.sample(random_state=42)\n",
    "user_id = sample.user.values[0]\n",
    "item_id = sample.movie.values[0]"
   ]
  },
  {
   "cell_type": "code",
   "execution_count": 9,
   "metadata": {
    "collapsed": false
   },
   "outputs": [
    {
     "data": {
      "text/plain": [
       "(877, 381)"
      ]
     },
     "execution_count": 9,
     "metadata": {},
     "output_type": "execute_result"
    }
   ],
   "source": [
    "user_id, item_id"
   ]
  },
  {
   "cell_type": "markdown",
   "metadata": {},
   "source": [
    "# Transforming the user rating data\n",
    "\n",
    "The Movielens dataset comes in the so-called _long format_. The dataset is structured as tuples of\n",
    "\n",
    "`user id, movie id, rating`\n",
    "\n",
    "That means, multiple rows may have the same user_id. One row for every movie that the user rated.\n",
    "\n",
    "In user-based collaborative filtering, we need the data in the long format.\n",
    "\n",
    "Therefore, we conver from long to wide format."
   ]
  },
  {
   "cell_type": "code",
   "execution_count": 10,
   "metadata": {
    "collapsed": false
   },
   "outputs": [],
   "source": [
    "# convert long to wide\n",
    "ratings_raw = ratings.copy()\n",
    "ratings = ratings.pivot(index='user', columns='movie', values='rating')"
   ]
  },
  {
   "cell_type": "code",
   "execution_count": 11,
   "metadata": {
    "collapsed": false
   },
   "outputs": [
    {
     "data": {
      "text/plain": [
       "(943, 1682)"
      ]
     },
     "execution_count": 11,
     "metadata": {},
     "output_type": "execute_result"
    }
   ],
   "source": [
    "ratings.shape"
   ]
  },
  {
   "cell_type": "code",
   "execution_count": 12,
   "metadata": {
    "collapsed": false
   },
   "outputs": [
    {
     "data": {
      "text/html": [
       "<div>\n",
       "<table border=\"1\" class=\"dataframe\">\n",
       "  <thead>\n",
       "    <tr style=\"text-align: right;\">\n",
       "      <th>movie</th>\n",
       "      <th>1</th>\n",
       "      <th>2</th>\n",
       "      <th>3</th>\n",
       "      <th>4</th>\n",
       "      <th>5</th>\n",
       "      <th>6</th>\n",
       "      <th>7</th>\n",
       "      <th>8</th>\n",
       "      <th>9</th>\n",
       "      <th>10</th>\n",
       "      <th>...</th>\n",
       "      <th>1673</th>\n",
       "      <th>1674</th>\n",
       "      <th>1675</th>\n",
       "      <th>1676</th>\n",
       "      <th>1677</th>\n",
       "      <th>1678</th>\n",
       "      <th>1679</th>\n",
       "      <th>1680</th>\n",
       "      <th>1681</th>\n",
       "      <th>1682</th>\n",
       "    </tr>\n",
       "    <tr>\n",
       "      <th>user</th>\n",
       "      <th></th>\n",
       "      <th></th>\n",
       "      <th></th>\n",
       "      <th></th>\n",
       "      <th></th>\n",
       "      <th></th>\n",
       "      <th></th>\n",
       "      <th></th>\n",
       "      <th></th>\n",
       "      <th></th>\n",
       "      <th></th>\n",
       "      <th></th>\n",
       "      <th></th>\n",
       "      <th></th>\n",
       "      <th></th>\n",
       "      <th></th>\n",
       "      <th></th>\n",
       "      <th></th>\n",
       "      <th></th>\n",
       "      <th></th>\n",
       "      <th></th>\n",
       "    </tr>\n",
       "  </thead>\n",
       "  <tbody>\n",
       "    <tr>\n",
       "      <th>1</th>\n",
       "      <td>5.0</td>\n",
       "      <td>3.0</td>\n",
       "      <td>4.0</td>\n",
       "      <td>3.0</td>\n",
       "      <td>3.0</td>\n",
       "      <td>5.0</td>\n",
       "      <td>4.0</td>\n",
       "      <td>1.0</td>\n",
       "      <td>5.0</td>\n",
       "      <td>3.0</td>\n",
       "      <td>...</td>\n",
       "      <td>NaN</td>\n",
       "      <td>NaN</td>\n",
       "      <td>NaN</td>\n",
       "      <td>NaN</td>\n",
       "      <td>NaN</td>\n",
       "      <td>NaN</td>\n",
       "      <td>NaN</td>\n",
       "      <td>NaN</td>\n",
       "      <td>NaN</td>\n",
       "      <td>NaN</td>\n",
       "    </tr>\n",
       "    <tr>\n",
       "      <th>2</th>\n",
       "      <td>4.0</td>\n",
       "      <td>NaN</td>\n",
       "      <td>NaN</td>\n",
       "      <td>NaN</td>\n",
       "      <td>NaN</td>\n",
       "      <td>NaN</td>\n",
       "      <td>NaN</td>\n",
       "      <td>NaN</td>\n",
       "      <td>NaN</td>\n",
       "      <td>2.0</td>\n",
       "      <td>...</td>\n",
       "      <td>NaN</td>\n",
       "      <td>NaN</td>\n",
       "      <td>NaN</td>\n",
       "      <td>NaN</td>\n",
       "      <td>NaN</td>\n",
       "      <td>NaN</td>\n",
       "      <td>NaN</td>\n",
       "      <td>NaN</td>\n",
       "      <td>NaN</td>\n",
       "      <td>NaN</td>\n",
       "    </tr>\n",
       "    <tr>\n",
       "      <th>3</th>\n",
       "      <td>NaN</td>\n",
       "      <td>NaN</td>\n",
       "      <td>NaN</td>\n",
       "      <td>NaN</td>\n",
       "      <td>NaN</td>\n",
       "      <td>NaN</td>\n",
       "      <td>NaN</td>\n",
       "      <td>NaN</td>\n",
       "      <td>NaN</td>\n",
       "      <td>NaN</td>\n",
       "      <td>...</td>\n",
       "      <td>NaN</td>\n",
       "      <td>NaN</td>\n",
       "      <td>NaN</td>\n",
       "      <td>NaN</td>\n",
       "      <td>NaN</td>\n",
       "      <td>NaN</td>\n",
       "      <td>NaN</td>\n",
       "      <td>NaN</td>\n",
       "      <td>NaN</td>\n",
       "      <td>NaN</td>\n",
       "    </tr>\n",
       "    <tr>\n",
       "      <th>4</th>\n",
       "      <td>NaN</td>\n",
       "      <td>NaN</td>\n",
       "      <td>NaN</td>\n",
       "      <td>NaN</td>\n",
       "      <td>NaN</td>\n",
       "      <td>NaN</td>\n",
       "      <td>NaN</td>\n",
       "      <td>NaN</td>\n",
       "      <td>NaN</td>\n",
       "      <td>NaN</td>\n",
       "      <td>...</td>\n",
       "      <td>NaN</td>\n",
       "      <td>NaN</td>\n",
       "      <td>NaN</td>\n",
       "      <td>NaN</td>\n",
       "      <td>NaN</td>\n",
       "      <td>NaN</td>\n",
       "      <td>NaN</td>\n",
       "      <td>NaN</td>\n",
       "      <td>NaN</td>\n",
       "      <td>NaN</td>\n",
       "    </tr>\n",
       "    <tr>\n",
       "      <th>5</th>\n",
       "      <td>4.0</td>\n",
       "      <td>3.0</td>\n",
       "      <td>NaN</td>\n",
       "      <td>NaN</td>\n",
       "      <td>NaN</td>\n",
       "      <td>NaN</td>\n",
       "      <td>NaN</td>\n",
       "      <td>NaN</td>\n",
       "      <td>NaN</td>\n",
       "      <td>NaN</td>\n",
       "      <td>...</td>\n",
       "      <td>NaN</td>\n",
       "      <td>NaN</td>\n",
       "      <td>NaN</td>\n",
       "      <td>NaN</td>\n",
       "      <td>NaN</td>\n",
       "      <td>NaN</td>\n",
       "      <td>NaN</td>\n",
       "      <td>NaN</td>\n",
       "      <td>NaN</td>\n",
       "      <td>NaN</td>\n",
       "    </tr>\n",
       "  </tbody>\n",
       "</table>\n",
       "<p>5 rows × 1682 columns</p>\n",
       "</div>"
      ],
      "text/plain": [
       "movie  1     2     3     4     5     6     7     8     9     10    ...   1673  \\\n",
       "user                                                               ...          \n",
       "1       5.0   3.0   4.0   3.0   3.0   5.0   4.0   1.0   5.0   3.0  ...    NaN   \n",
       "2       4.0   NaN   NaN   NaN   NaN   NaN   NaN   NaN   NaN   2.0  ...    NaN   \n",
       "3       NaN   NaN   NaN   NaN   NaN   NaN   NaN   NaN   NaN   NaN  ...    NaN   \n",
       "4       NaN   NaN   NaN   NaN   NaN   NaN   NaN   NaN   NaN   NaN  ...    NaN   \n",
       "5       4.0   3.0   NaN   NaN   NaN   NaN   NaN   NaN   NaN   NaN  ...    NaN   \n",
       "\n",
       "movie  1674  1675  1676  1677  1678  1679  1680  1681  1682  \n",
       "user                                                         \n",
       "1       NaN   NaN   NaN   NaN   NaN   NaN   NaN   NaN   NaN  \n",
       "2       NaN   NaN   NaN   NaN   NaN   NaN   NaN   NaN   NaN  \n",
       "3       NaN   NaN   NaN   NaN   NaN   NaN   NaN   NaN   NaN  \n",
       "4       NaN   NaN   NaN   NaN   NaN   NaN   NaN   NaN   NaN  \n",
       "5       NaN   NaN   NaN   NaN   NaN   NaN   NaN   NaN   NaN  \n",
       "\n",
       "[5 rows x 1682 columns]"
      ]
     },
     "execution_count": 12,
     "metadata": {},
     "output_type": "execute_result"
    }
   ],
   "source": [
    "ratings.head()"
   ]
  },
  {
   "cell_type": "code",
   "execution_count": 13,
   "metadata": {
    "collapsed": false
   },
   "outputs": [
    {
     "data": {
      "text/plain": [
       "4.0"
      ]
     },
     "execution_count": 13,
     "metadata": {},
     "output_type": "execute_result"
    }
   ],
   "source": [
    "# select user, movie\n",
    "ratings.loc[user_id, item_id]"
   ]
  },
  {
   "cell_type": "code",
   "execution_count": 14,
   "metadata": {
    "collapsed": false
   },
   "outputs": [
    {
     "data": {
      "text/plain": [
       "movie\n",
       "495    NaN\n",
       "628    NaN\n",
       "1544   NaN\n",
       "5      NaN\n",
       "918    NaN\n",
       "1635   NaN\n",
       "1479   NaN\n",
       "1039   NaN\n",
       "53     NaN\n",
       "1381   NaN\n",
       "Name: 877, dtype: float64"
      ]
     },
     "execution_count": 14,
     "metadata": {},
     "output_type": "execute_result"
    }
   ],
   "source": [
    "# ratings vector of specific user\n",
    "ratings.loc[user_id, :].sample(10)"
   ]
  },
  {
   "cell_type": "markdown",
   "metadata": {},
   "source": [
    "# Measuring similarity between users\n",
    "\n",
    "After converting the dataset into the wide format, with rows as ratings vector of every user.\n",
    "\n",
    "The ratings vectors are used to measure the similarity or dissimilarity between users. When 2 users have given the same movies the same ratings, we can say that the 2 users are similar with respect to their movie taste. Vice versa, when 2 users have rated the same movie very differently, the users have very different taste in movies.\n",
    "\n",
    "User-based collaborative filtering focuses on finding users with very similar taste in movies to recommend movies to someone.\n",
    "\n",
    "Here, we use the Pearson correlation to measure similarity between 2 ratings vectors (= 2 users). Pearson correlation has a value between -1 and +1. 0 means no correlation. +1 means very similar. -1 means very dissimilar.\n",
    "\n",
    "We compute the similarity of a given user with all the other users in the dataset."
   ]
  },
  {
   "cell_type": "code",
   "execution_count": 15,
   "metadata": {
    "collapsed": true
   },
   "outputs": [],
   "source": [
    "def pearson_similarity(v1, v2):\n",
    "    \"\"\"\n",
    "    Compute the Pearson correlation between to ratings vectors.\n",
    "    \n",
    "    pd.corr() function can handle missing data.\n",
    "    \n",
    "    parameters: \n",
    "    - v1, v2: pd.Series, ratings vectors\n",
    "    \n",
    "    returns:\n",
    "    - float\n",
    "    \n",
    "    \"\"\"\n",
    "    \n",
    "    pearson = v1.corr(v2)\n",
    "    \n",
    "    return pearson"
   ]
  },
  {
   "cell_type": "code",
   "execution_count": 16,
   "metadata": {
    "collapsed": false
   },
   "outputs": [
    {
     "data": {
      "text/plain": [
       "0.84852813742385713"
      ]
     },
     "execution_count": 16,
     "metadata": {},
     "output_type": "execute_result"
    }
   ],
   "source": [
    "# let us test\n",
    "pearson_similarity(\n",
    "    pd.Series([1, 2, 3, 4, 5, np.NaN]), \n",
    "    pd.Series([2, 1, 4, 5, np.NaN, 1])\n",
    ")"
   ]
  },
  {
   "cell_type": "code",
   "execution_count": 17,
   "metadata": {
    "collapsed": true
   },
   "outputs": [],
   "source": [
    "def compute_similarities(user_id, ratings_matrix):\n",
    "    \"\"\"\n",
    "    Compute the similarity of a given user with all the other users in the dataset.\n",
    "    \n",
    "    Remove the similarity value for the given user from the result.\n",
    "    \n",
    "    returns:\n",
    "        - a pd.Series with the user id's as index, and similarity as series values\n",
    "    \"\"\"\n",
    "    \n",
    "    # get ratings of user to re-use in the similarity computation\n",
    "    ratings_user = ratings_matrix.loc[user_id,:]\n",
    "    \n",
    "    # calculate the similarity between the given user and the other users\n",
    "    similarities = ratings_matrix.apply(\n",
    "        lambda row: pearson_similarity(ratings_user, row), \n",
    "        axis=1)\n",
    "\n",
    "    similarities = similarities.to_frame(name='similarity')\n",
    "\n",
    "    # find most similar users to the given user\n",
    "    similarities = similarities.sort_values(by='similarity', ascending=False)\n",
    "    \n",
    "    # drop the similarity of the user (should be ~1 anyways)\n",
    "    similarities = similarities.drop(user_id)\n",
    "    \n",
    "    return similarities"
   ]
  },
  {
   "cell_type": "code",
   "execution_count": 18,
   "metadata": {
    "collapsed": false
   },
   "outputs": [
    {
     "name": "stderr",
     "output_type": "stream",
     "text": [
      "F:\\Program_Files\\Anaconda3\\lib\\site-packages\\numpy\\lib\\function_base.py:2487: RuntimeWarning: Degrees of freedom <= 0 for slice\n",
      "  warnings.warn(\"Degrees of freedom <= 0 for slice\", RuntimeWarning)\n",
      "F:\\Program_Files\\Anaconda3\\lib\\site-packages\\numpy\\lib\\function_base.py:2496: RuntimeWarning: divide by zero encountered in double_scalars\n",
      "  c *= 1. / np.float64(fact)\n"
     ]
    },
    {
     "data": {
      "text/html": [
       "<div>\n",
       "<table border=\"1\" class=\"dataframe\">\n",
       "  <thead>\n",
       "    <tr style=\"text-align: right;\">\n",
       "      <th></th>\n",
       "      <th>similarity</th>\n",
       "    </tr>\n",
       "    <tr>\n",
       "      <th>user</th>\n",
       "      <th></th>\n",
       "    </tr>\n",
       "  </thead>\n",
       "  <tbody>\n",
       "    <tr>\n",
       "      <th>917</th>\n",
       "      <td>1.0</td>\n",
       "    </tr>\n",
       "    <tr>\n",
       "      <th>300</th>\n",
       "      <td>1.0</td>\n",
       "    </tr>\n",
       "    <tr>\n",
       "      <th>386</th>\n",
       "      <td>1.0</td>\n",
       "    </tr>\n",
       "    <tr>\n",
       "      <th>789</th>\n",
       "      <td>1.0</td>\n",
       "    </tr>\n",
       "    <tr>\n",
       "      <th>869</th>\n",
       "      <td>1.0</td>\n",
       "    </tr>\n",
       "  </tbody>\n",
       "</table>\n",
       "</div>"
      ],
      "text/plain": [
       "      similarity\n",
       "user            \n",
       "917          1.0\n",
       "300          1.0\n",
       "386          1.0\n",
       "789          1.0\n",
       "869          1.0"
      ]
     },
     "execution_count": 18,
     "metadata": {},
     "output_type": "execute_result"
    }
   ],
   "source": [
    "# let us test\n",
    "similarities = compute_similarities(user_id, ratings)\n",
    "similarities.head()"
   ]
  },
  {
   "cell_type": "markdown",
   "metadata": {},
   "source": [
    "# Predicting Movie Ratings\n",
    "\n",
    "The user similarities allow to predict the rating that a user would give to an unrated movie. The recipe to make a rating prediction goes as follows:\n",
    "- find the N most similar neighbors of the user, who have rated the given movie\n",
    "- average the rating of that movie of the N neighbors of the user"
   ]
  },
  {
   "cell_type": "code",
   "execution_count": 19,
   "metadata": {
    "collapsed": true
   },
   "outputs": [],
   "source": [
    "def predict_rating(item_id, ratings, similarities, N=10):\n",
    "    \"\"\"\n",
    "    Predict the rating of a given item by a user, given the ratings of similar users.\n",
    "    Takes the N users with the highest similarity measure, AND who have rated the given item.\n",
    "    Returns the average rating of the most similar users who previously rated the item.\n",
    "    \n",
    "    parameters:\n",
    "    - item_id: int, item that needs a rating prediction\n",
    "    - ratings: pd.DataFrame\n",
    "    - similarities: pd.DataFrame\n",
    "    - N: int, number of neighbors to use for rating prediction\n",
    "    \n",
    "    returns:\n",
    "    - a float representing the predicted rating for the given item\n",
    "    \n",
    "    \"\"\"\n",
    "    \n",
    "    # get the ratings of all users for the specific item\n",
    "    users_ratings = ratings.loc[:, item_id]\n",
    "    \n",
    "    # only keep users who rated the given item, otherwise you won't be able to generate a prediction based on the users ratings\n",
    "    most_similar_users_who_rated_item = similarities.loc[~users_ratings.isnull()]\n",
    "    \n",
    "    # keep N users with highest similarities to given user who also rated the given item\n",
    "    N_most_similar_users = most_similar_users_who_rated_item.head(N)\n",
    "    \n",
    "    # find ratings item for most similar users:\n",
    "    ratings_for_item = ratings.loc[N_most_similar_users.index, item_id]\n",
    "    \n",
    "    # predict the rating of the item by averaging the ratings of that item of the most similar users\n",
    "    return ratings_for_item.mean()"
   ]
  },
  {
   "cell_type": "code",
   "execution_count": 20,
   "metadata": {
    "collapsed": false
   },
   "outputs": [
    {
     "data": {
      "text/plain": [
       "4.0"
      ]
     },
     "execution_count": 20,
     "metadata": {},
     "output_type": "execute_result"
    }
   ],
   "source": [
    "# let us test\n",
    "predict_rating(item_id, ratings, similarities, N=N_NEIGHBORS)"
   ]
  },
  {
   "cell_type": "markdown",
   "metadata": {},
   "source": [
    "# Recommending movies\n",
    "\n",
    "Once we can predict what rating a user will give to a given movie, recommending movies to that user becomes straight forward.\n",
    "\n",
    "We recommend movies as follows:\n",
    "- find the movies that the user has not rated.\n",
    "- predict the rating that the user would give to these unrated movies.\n",
    "- find the N movies with the highest ratings."
   ]
  },
  {
   "cell_type": "code",
   "execution_count": 21,
   "metadata": {
    "collapsed": true
   },
   "outputs": [],
   "source": [
    "movie_names = read_names(MOVIE_NAMES_PATH)"
   ]
  },
  {
   "cell_type": "code",
   "execution_count": 22,
   "metadata": {
    "collapsed": true
   },
   "outputs": [],
   "source": [
    "def recommend(user_id, ratings, movie_names, n_neighbors=10, n_recomm=5):\n",
    "    \"\"\"\n",
    "    \n",
    "    Recommend N movies for a given user based on ratings data.\n",
    "    \n",
    "    1. get the ratings of the user\n",
    "    2. get the movies that the user has not rated\n",
    "    3. compute the similarities between the user and the other users\n",
    "    4. generate movie ratings predictions for the user based on the similarities with other users\n",
    "    5. find the N movies with the highest predicted ratings\n",
    "    \n",
    "    parameters:\n",
    "    - user_id: int, user to generate recommendations for\n",
    "    - ratings: pd.DataFrame, user-movie ratings\n",
    "    - movie_names: dict, mapping of (movie id -> movie name)\n",
    "    - n_neighbors: int: the number of neighbors to use to generate rating predictions\n",
    "    - n_recomm: int, number of movies to recommend\n",
    "    \n",
    "    returns:\n",
    "    - pd.DataFrame with [movie_id, rating, movie name]\n",
    "    \n",
    "    \"\"\"\n",
    "    \n",
    "    # get the ratings of the user\n",
    "    ratings_user = ratings.loc[user_id, :]\n",
    "    \n",
    "    # all the items a user has not rated, that can be recommended\n",
    "    all_items = ratings.loc[user_id,:]\n",
    "    unrated_items = all_items.loc[all_items.isnull()]\n",
    "    \n",
    "    # convert the index with item ids into Series values\n",
    "    unrated_items = unrated_items.index.to_series(name='item_ids').reset_index(drop=True)\n",
    "    print('User {} has {} unrated items.'.format(user_id, len(unrated_items)))\n",
    "    \n",
    "    # compute user similarities\n",
    "    similarities = compute_similarities(user_id, ratings)\n",
    "        \n",
    "    # generate predictions for unseen items based on the user similarity data\n",
    "    predictions = unrated_items.apply(lambda d: predict_rating(d, ratings, similarities, N=n_neighbors))\n",
    "    \n",
    "    # sort items by highest predicted rating\n",
    "    predictions = predictions.sort_values(ascending=False)\n",
    "    \n",
    "    # recommend top N items\n",
    "    recommends = predictions.head(n_recomm)\n",
    "    \n",
    "    # reformat the result\n",
    "    recommends = recommends.to_frame(name='predicted_rating')\n",
    "    recommends = recommends.rename_axis('movie_id')\n",
    "    recommends = recommends.reset_index()\n",
    "    \n",
    "    recommends['name'] = recommends.movie_id.apply(lambda d: movie_names[d])\n",
    "    \n",
    "    return recommends"
   ]
  },
  {
   "cell_type": "code",
   "execution_count": 23,
   "metadata": {
    "collapsed": false
   },
   "outputs": [
    {
     "name": "stderr",
     "output_type": "stream",
     "text": [
      "F:\\Program_Files\\Anaconda3\\lib\\site-packages\\numpy\\lib\\function_base.py:2487: RuntimeWarning: Degrees of freedom <= 0 for slice\n",
      "  warnings.warn(\"Degrees of freedom <= 0 for slice\", RuntimeWarning)\n",
      "F:\\Program_Files\\Anaconda3\\lib\\site-packages\\numpy\\lib\\function_base.py:2496: RuntimeWarning: divide by zero encountered in double_scalars\n",
      "  c *= 1. / np.float64(fact)\n"
     ]
    },
    {
     "name": "stdout",
     "output_type": "stream",
     "text": [
      "User 877 has 1601 unrated items.\n"
     ]
    },
    {
     "data": {
      "text/html": [
       "<div>\n",
       "<table border=\"1\" class=\"dataframe\">\n",
       "  <thead>\n",
       "    <tr style=\"text-align: right;\">\n",
       "      <th></th>\n",
       "      <th>movie_id</th>\n",
       "      <th>predicted_rating</th>\n",
       "      <th>name</th>\n",
       "    </tr>\n",
       "  </thead>\n",
       "  <tbody>\n",
       "    <tr>\n",
       "      <th>0</th>\n",
       "      <td>737</td>\n",
       "      <td>5.0</td>\n",
       "      <td>Sirens (1994)</td>\n",
       "    </tr>\n",
       "    <tr>\n",
       "      <th>1</th>\n",
       "      <td>1041</td>\n",
       "      <td>5.0</td>\n",
       "      <td>Forget Paris (1995)</td>\n",
       "    </tr>\n",
       "    <tr>\n",
       "      <th>2</th>\n",
       "      <td>1454</td>\n",
       "      <td>5.0</td>\n",
       "      <td>Angel and the Badman (1947)</td>\n",
       "    </tr>\n",
       "    <tr>\n",
       "      <th>3</th>\n",
       "      <td>1418</td>\n",
       "      <td>5.0</td>\n",
       "      <td>Joy Luck Club, The (1993)</td>\n",
       "    </tr>\n",
       "    <tr>\n",
       "      <th>4</th>\n",
       "      <td>1385</td>\n",
       "      <td>5.0</td>\n",
       "      <td>Roseanna's Grave (For Roseanna) (1997)</td>\n",
       "    </tr>\n",
       "  </tbody>\n",
       "</table>\n",
       "</div>"
      ],
      "text/plain": [
       "   movie_id  predicted_rating                                    name\n",
       "0       737               5.0                           Sirens (1994)\n",
       "1      1041               5.0                     Forget Paris (1995)\n",
       "2      1454               5.0             Angel and the Badman (1947)\n",
       "3      1418               5.0               Joy Luck Club, The (1993)\n",
       "4      1385               5.0  Roseanna's Grave (For Roseanna) (1997)"
      ]
     },
     "execution_count": 23,
     "metadata": {},
     "output_type": "execute_result"
    }
   ],
   "source": [
    "# let us test\n",
    "recommends = recommend(user_id, ratings, movie_names, n_neighbors=N_NEIGHBORS, n_recomm=N_RECOMMENDATIONS)\n",
    "recommends"
   ]
  },
  {
   "cell_type": "code",
   "execution_count": null,
   "metadata": {
    "collapsed": true
   },
   "outputs": [],
   "source": []
  }
 ],
 "metadata": {
  "kernelspec": {
   "display_name": "Python [default]",
   "language": "python",
   "name": "python3"
  },
  "language_info": {
   "codemirror_mode": {
    "name": "ipython",
    "version": 3
   },
   "file_extension": ".py",
   "mimetype": "text/x-python",
   "name": "python",
   "nbconvert_exporter": "python",
   "pygments_lexer": "ipython3",
   "version": "3.6.0"
  }
 },
 "nbformat": 4,
 "nbformat_minor": 2
}
