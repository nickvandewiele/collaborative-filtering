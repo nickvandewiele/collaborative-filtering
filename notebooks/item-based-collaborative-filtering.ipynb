{
 "cells": [
  {
   "cell_type": "markdown",
   "metadata": {},
   "source": [
    "# Item-based Collaborative Filtering using Pandas\n",
    "\n",
    "In this notebook I explore a technique to recommend items, called __item-based collaborative filtering__.\n",
    "\n",
    "The objective of the notebook is to create a system to recommend movies based on a movie that you have seen. The recommendations are made based on a dataset of movie ratings by people.\n",
    "\n",
    "I use the __MovieLens 100K Dataset__ (https://grouplens.org/datasets/movielens/). Copy the dataset from http://files.grouplens.org/datasets/movielens/ml-100k.zip, and unzip it into a folder.\n",
    "\n",
    "2 files of the dataset are used:\n",
    "- `ml-100k/u.data` contains the 100k ratings.\n",
    "- `ml-100k/u.item` provides a mapping from a movie id to the name of the movie.\n",
    "\n",
    "The implementation of the item-based collaborative filtering procedure is done using Pandas. Nevertheless, I based my implementation on the excellent Udemy course \"__Taming Big Data with Apache Spark and Python - Hands On!__\" by Frank Kane (https://www.udemy.com/course/taming-big-data-with-apache-spark-hands-on/)."
   ]
  },
  {
   "cell_type": "code",
   "execution_count": 1,
   "metadata": {},
   "outputs": [],
   "source": [
    "# data manipulation\n",
    "import pandas as pd\n",
    "\n",
    "# imports to construct the similarity function\n",
    "from numpy import dot\n",
    "from numpy.linalg import norm"
   ]
  },
  {
   "cell_type": "code",
   "execution_count": 2,
   "metadata": {},
   "outputs": [],
   "source": [
    "# paths to the files. download them from http://files.grouplens.org/datasets/movielens/ml-100k.zip if you don't have them yet\n",
    "MOVIE_RATINGS_PATH = '../ml-100k/u.data'\n",
    "MOVIE_NAMES_PATH = '../ml-100k/u.item'"
   ]
  },
  {
   "cell_type": "markdown",
   "metadata": {},
   "source": [
    "# Reading the Ratings Data"
   ]
  },
  {
   "cell_type": "code",
   "execution_count": 3,
   "metadata": {},
   "outputs": [],
   "source": [
    "def read_ratings(path_to_ratings):\n",
    "    \"\"\"\n",
    "    Read the raw data of the movie ratings.\n",
    "    \n",
    "    Returns a list of tuples:\n",
    "    (user id, movie id, rating)\n",
    "    \"\"\"\n",
    "\n",
    "    data = []\n",
    "    with open(path_to_ratings) as f:\n",
    "        for line in f:\n",
    "            # user id | item id | rating | timestamp\n",
    "            pieces = line.split()\n",
    "            user_id = int(pieces[0])\n",
    "            movie_id = int(pieces[1])\n",
    "            rating = float(pieces[2])\n",
    "            data.append((user_id, movie_id, rating))\n",
    "        \n",
    "    return data"
   ]
  },
  {
   "cell_type": "code",
   "execution_count": 4,
   "metadata": {},
   "outputs": [],
   "source": [
    "def read_names(path_to_names):\n",
    "    \"\"\"\n",
    "    Read the mapping of movie id -> movie name\n",
    "    \n",
    "    Returns a dictionary\n",
    "    {movie id -> movie name}\n",
    "    \"\"\"\n",
    "\n",
    "    data = {}\n",
    "    with open(path_to_names) as f:\n",
    "        for line in f:\n",
    "            # movie id | movie title | ...\n",
    "            pieces = line.split('|')\n",
    "            movie_id = int(pieces[0])\n",
    "            title = pieces[1]\n",
    "            data[movie_id] = title\n",
    "        \n",
    "    return data"
   ]
  },
  {
   "cell_type": "code",
   "execution_count": 5,
   "metadata": {},
   "outputs": [
    {
     "data": {
      "text/html": [
       "<div>\n",
       "<style scoped>\n",
       "    .dataframe tbody tr th:only-of-type {\n",
       "        vertical-align: middle;\n",
       "    }\n",
       "\n",
       "    .dataframe tbody tr th {\n",
       "        vertical-align: top;\n",
       "    }\n",
       "\n",
       "    .dataframe thead th {\n",
       "        text-align: right;\n",
       "    }\n",
       "</style>\n",
       "<table border=\"1\" class=\"dataframe\">\n",
       "  <thead>\n",
       "    <tr style=\"text-align: right;\">\n",
       "      <th></th>\n",
       "      <th>user</th>\n",
       "      <th>movie</th>\n",
       "      <th>rating</th>\n",
       "    </tr>\n",
       "  </thead>\n",
       "  <tbody>\n",
       "    <tr>\n",
       "      <th>49626</th>\n",
       "      <td>56</td>\n",
       "      <td>89</td>\n",
       "      <td>4</td>\n",
       "    </tr>\n",
       "    <tr>\n",
       "      <th>2690</th>\n",
       "      <td>151</td>\n",
       "      <td>173</td>\n",
       "      <td>5</td>\n",
       "    </tr>\n",
       "    <tr>\n",
       "      <th>57467</th>\n",
       "      <td>194</td>\n",
       "      <td>121</td>\n",
       "      <td>5</td>\n",
       "    </tr>\n",
       "    <tr>\n",
       "      <th>14801</th>\n",
       "      <td>59</td>\n",
       "      <td>98</td>\n",
       "      <td>3</td>\n",
       "    </tr>\n",
       "    <tr>\n",
       "      <th>62857</th>\n",
       "      <td>112</td>\n",
       "      <td>54</td>\n",
       "      <td>3</td>\n",
       "    </tr>\n",
       "  </tbody>\n",
       "</table>\n",
       "</div>"
      ],
      "text/plain": [
       "       user  movie  rating\n",
       "49626    56     89       4\n",
       "2690    151    173       5\n",
       "57467   194    121       5\n",
       "14801    59     98       3\n",
       "62857   112     54       3"
      ]
     },
     "execution_count": 5,
     "metadata": {},
     "output_type": "execute_result"
    }
   ],
   "source": [
    "ratings = read_ratings(MOVIE_RATINGS_PATH)\n",
    "ratings = pd.DataFrame(data=ratings, columns=['user', 'movie', 'rating'])\n",
    "# sample only 50k for memory reasons\n",
    "ratings = ratings.sample(50000)\n",
    "# downcast to fit into memory\n",
    "ratings = ratings.astype('uint8')\n",
    "ratings.head()"
   ]
  },
  {
   "cell_type": "markdown",
   "metadata": {},
   "source": [
    "# Creating Pairs of Movie Ratings\n",
    "\n",
    "The first important idea of item-based collaborative filtering is to create pairs of movie ratings. If a person gives the same rating to two different movies, it means that this person likes the 2 movies more or less to the same degree.\n",
    "\n",
    "For example, user X gives the following ratings of 3 movies:\n",
    "- user X, movie 1, 5 stars\n",
    "- user X, movie 2, 1 star\n",
    "- user X, movie 3, 5 stars\n",
    "\n",
    "In this example, movie 1 and movie 3 both get 5 stars. Perhaps this person like science-fiction movies; movie 1 and movie 3 could both be science-fiction movies. That explains why the 2 movies received 5 stars by this user. On the other hand, perhaps this user hates westerns. Perhaps movie 2 was a western and therefore received a rating of only 1 star.\n",
    "\n",
    "The method that I use here to create pairs of movie ratings by the same user is the __self join__. The ratings table is merged onto itself, using the user id as the key to merge the 2 tables. The result of the self join is a new table, but with 5 columns instead of 3:\n",
    "\n",
    "`user id | movie 1 id | rating movie 1 | movie 2 id | rating 2`\n",
    "\n",
    "Remember that only pairs of movie ratings are created for the same person. This is because we merge using the user id as the key.\n",
    "\n",
    "\n",
    "The self-join operation can potentially lead to a table with a large number of rows. The number of created rows depends on the number of unique users in the ratings data. For example, if the table has N ratings of N different users, the self-join operation will not be able to create movie ratings pairs at all. "
   ]
  },
  {
   "cell_type": "code",
   "execution_count": 6,
   "metadata": {},
   "outputs": [
    {
     "data": {
      "text/plain": [
       "(0, 5)"
      ]
     },
     "execution_count": 6,
     "metadata": {},
     "output_type": "execute_result"
    }
   ],
   "source": [
    "ratings_no_dups = ratings.drop_duplicates('user', keep=False)\n",
    "ratings_no_dups.merge(ratings_no_dups, on='user', suffixes=('_1', '_2')).shape"
   ]
  },
  {
   "cell_type": "code",
   "execution_count": 7,
   "metadata": {},
   "outputs": [
    {
     "data": {
      "text/plain": [
       "256"
      ]
     },
     "execution_count": 7,
     "metadata": {},
     "output_type": "execute_result"
    }
   ],
   "source": [
    "# number of unique users\n",
    "ratings.user.nunique()"
   ]
  },
  {
   "cell_type": "code",
   "execution_count": 8,
   "metadata": {},
   "outputs": [
    {
     "data": {
      "text/html": [
       "<div>\n",
       "<style scoped>\n",
       "    .dataframe tbody tr th:only-of-type {\n",
       "        vertical-align: middle;\n",
       "    }\n",
       "\n",
       "    .dataframe tbody tr th {\n",
       "        vertical-align: top;\n",
       "    }\n",
       "\n",
       "    .dataframe thead th {\n",
       "        text-align: right;\n",
       "    }\n",
       "</style>\n",
       "<table border=\"1\" class=\"dataframe\">\n",
       "  <thead>\n",
       "    <tr style=\"text-align: right;\">\n",
       "      <th></th>\n",
       "      <th>user</th>\n",
       "      <th>movie_1</th>\n",
       "      <th>rating_1</th>\n",
       "      <th>movie_2</th>\n",
       "      <th>rating_2</th>\n",
       "    </tr>\n",
       "  </thead>\n",
       "  <tbody>\n",
       "    <tr>\n",
       "      <th>0</th>\n",
       "      <td>56</td>\n",
       "      <td>89</td>\n",
       "      <td>4</td>\n",
       "      <td>89</td>\n",
       "      <td>4</td>\n",
       "    </tr>\n",
       "    <tr>\n",
       "      <th>1</th>\n",
       "      <td>56</td>\n",
       "      <td>89</td>\n",
       "      <td>4</td>\n",
       "      <td>172</td>\n",
       "      <td>5</td>\n",
       "    </tr>\n",
       "    <tr>\n",
       "      <th>2</th>\n",
       "      <td>56</td>\n",
       "      <td>89</td>\n",
       "      <td>4</td>\n",
       "      <td>191</td>\n",
       "      <td>4</td>\n",
       "    </tr>\n",
       "    <tr>\n",
       "      <th>3</th>\n",
       "      <td>56</td>\n",
       "      <td>89</td>\n",
       "      <td>4</td>\n",
       "      <td>167</td>\n",
       "      <td>4</td>\n",
       "    </tr>\n",
       "    <tr>\n",
       "      <th>4</th>\n",
       "      <td>56</td>\n",
       "      <td>89</td>\n",
       "      <td>4</td>\n",
       "      <td>15</td>\n",
       "      <td>5</td>\n",
       "    </tr>\n",
       "  </tbody>\n",
       "</table>\n",
       "</div>"
      ],
      "text/plain": [
       "   user  movie_1  rating_1  movie_2  rating_2\n",
       "0    56       89         4       89         4\n",
       "1    56       89         4      172         5\n",
       "2    56       89         4      191         4\n",
       "3    56       89         4      167         4\n",
       "4    56       89         4       15         5"
      ]
     },
     "execution_count": 8,
     "metadata": {},
     "output_type": "execute_result"
    }
   ],
   "source": [
    "ratings_joined = ratings.merge(ratings, on='user', suffixes=('_1', '_2'))\n",
    "ratings_joined.head()"
   ]
  },
  {
   "cell_type": "code",
   "execution_count": 9,
   "metadata": {},
   "outputs": [
    {
     "data": {
      "text/plain": [
       "(12356284, 5)"
      ]
     },
     "execution_count": 9,
     "metadata": {},
     "output_type": "execute_result"
    }
   ],
   "source": [
    "ratings_joined.shape"
   ]
  },
  {
   "cell_type": "markdown",
   "metadata": {},
   "source": [
    "# Removing unhelpful movie ratings pairs\n",
    "\n",
    "The self-join of the ratings data create some movie ratings pairs that are not helpful. For example, duplicate pairs will exist where the same 2 movies are rated, but with different indices.\n",
    "\n",
    "Unhelpful movie ratings pairs are removed by comparing the id of the 2 movies in the pair."
   ]
  },
  {
   "cell_type": "code",
   "execution_count": 10,
   "metadata": {},
   "outputs": [
    {
     "data": {
      "text/html": [
       "<div>\n",
       "<style scoped>\n",
       "    .dataframe tbody tr th:only-of-type {\n",
       "        vertical-align: middle;\n",
       "    }\n",
       "\n",
       "    .dataframe tbody tr th {\n",
       "        vertical-align: top;\n",
       "    }\n",
       "\n",
       "    .dataframe thead th {\n",
       "        text-align: right;\n",
       "    }\n",
       "</style>\n",
       "<table border=\"1\" class=\"dataframe\">\n",
       "  <thead>\n",
       "    <tr style=\"text-align: right;\">\n",
       "      <th></th>\n",
       "      <th>user</th>\n",
       "      <th>movie_1</th>\n",
       "      <th>rating_1</th>\n",
       "      <th>movie_2</th>\n",
       "      <th>rating_2</th>\n",
       "    </tr>\n",
       "  </thead>\n",
       "  <tbody>\n",
       "    <tr>\n",
       "      <th>1</th>\n",
       "      <td>56</td>\n",
       "      <td>89</td>\n",
       "      <td>4</td>\n",
       "      <td>172</td>\n",
       "      <td>5</td>\n",
       "    </tr>\n",
       "    <tr>\n",
       "      <th>2</th>\n",
       "      <td>56</td>\n",
       "      <td>89</td>\n",
       "      <td>4</td>\n",
       "      <td>191</td>\n",
       "      <td>4</td>\n",
       "    </tr>\n",
       "    <tr>\n",
       "      <th>3</th>\n",
       "      <td>56</td>\n",
       "      <td>89</td>\n",
       "      <td>4</td>\n",
       "      <td>167</td>\n",
       "      <td>4</td>\n",
       "    </tr>\n",
       "    <tr>\n",
       "      <th>6</th>\n",
       "      <td>56</td>\n",
       "      <td>89</td>\n",
       "      <td>4</td>\n",
       "      <td>180</td>\n",
       "      <td>4</td>\n",
       "    </tr>\n",
       "    <tr>\n",
       "      <th>8</th>\n",
       "      <td>56</td>\n",
       "      <td>89</td>\n",
       "      <td>4</td>\n",
       "      <td>229</td>\n",
       "      <td>4</td>\n",
       "    </tr>\n",
       "  </tbody>\n",
       "</table>\n",
       "</div>"
      ],
      "text/plain": [
       "   user  movie_1  rating_1  movie_2  rating_2\n",
       "1    56       89         4      172         5\n",
       "2    56       89         4      191         4\n",
       "3    56       89         4      167         4\n",
       "6    56       89         4      180         4\n",
       "8    56       89         4      229         4"
      ]
     },
     "execution_count": 10,
     "metadata": {},
     "output_type": "execute_result"
    }
   ],
   "source": [
    "ratings_filtered = ratings_joined[ratings_joined['movie_1'] < ratings_joined['movie_2']]\n",
    "ratings_filtered.head()"
   ]
  },
  {
   "cell_type": "code",
   "execution_count": 11,
   "metadata": {},
   "outputs": [
    {
     "data": {
      "text/plain": [
       "(6129811, 5)"
      ]
     },
     "execution_count": 11,
     "metadata": {},
     "output_type": "execute_result"
    }
   ],
   "source": [
    "ratings_filtered.shape"
   ]
  },
  {
   "cell_type": "markdown",
   "metadata": {},
   "source": [
    "# Discard the user column\n",
    "\n",
    "Now that we have pairs of movie ratings made by the same user, I no longer need the user id column. While it seems a small detail in the overall picture, this step is an important part of the _item_-based collaborative filtering procedure. \n",
    "\n",
    "The algorithm focuses on movies. Not on users.\n",
    "\n",
    "When we make recommendations based on a movie seen by a specific user, we ignore the preferences of the user that provided the movie. Our algorithm will provide recommendations based on the more general consensus of the users in our rating data, _not_ on the specific preferences of the user. "
   ]
  },
  {
   "cell_type": "code",
   "execution_count": 12,
   "metadata": {},
   "outputs": [
    {
     "data": {
      "text/html": [
       "<div>\n",
       "<style scoped>\n",
       "    .dataframe tbody tr th:only-of-type {\n",
       "        vertical-align: middle;\n",
       "    }\n",
       "\n",
       "    .dataframe tbody tr th {\n",
       "        vertical-align: top;\n",
       "    }\n",
       "\n",
       "    .dataframe thead th {\n",
       "        text-align: right;\n",
       "    }\n",
       "</style>\n",
       "<table border=\"1\" class=\"dataframe\">\n",
       "  <thead>\n",
       "    <tr style=\"text-align: right;\">\n",
       "      <th></th>\n",
       "      <th>movie_1</th>\n",
       "      <th>rating_1</th>\n",
       "      <th>movie_2</th>\n",
       "      <th>rating_2</th>\n",
       "    </tr>\n",
       "  </thead>\n",
       "  <tbody>\n",
       "    <tr>\n",
       "      <th>1</th>\n",
       "      <td>89</td>\n",
       "      <td>4</td>\n",
       "      <td>172</td>\n",
       "      <td>5</td>\n",
       "    </tr>\n",
       "    <tr>\n",
       "      <th>2</th>\n",
       "      <td>89</td>\n",
       "      <td>4</td>\n",
       "      <td>191</td>\n",
       "      <td>4</td>\n",
       "    </tr>\n",
       "    <tr>\n",
       "      <th>3</th>\n",
       "      <td>89</td>\n",
       "      <td>4</td>\n",
       "      <td>167</td>\n",
       "      <td>4</td>\n",
       "    </tr>\n",
       "    <tr>\n",
       "      <th>6</th>\n",
       "      <td>89</td>\n",
       "      <td>4</td>\n",
       "      <td>180</td>\n",
       "      <td>4</td>\n",
       "    </tr>\n",
       "    <tr>\n",
       "      <th>8</th>\n",
       "      <td>89</td>\n",
       "      <td>4</td>\n",
       "      <td>229</td>\n",
       "      <td>4</td>\n",
       "    </tr>\n",
       "  </tbody>\n",
       "</table>\n",
       "</div>"
      ],
      "text/plain": [
       "   movie_1  rating_1  movie_2  rating_2\n",
       "1       89         4      172         5\n",
       "2       89         4      191         4\n",
       "3       89         4      167         4\n",
       "6       89         4      180         4\n",
       "8       89         4      229         4"
      ]
     },
     "execution_count": 12,
     "metadata": {},
     "output_type": "execute_result"
    }
   ],
   "source": [
    "ratings_filtered = ratings_filtered.drop(['user'], axis=1)\n",
    "ratings_filtered.head()"
   ]
  },
  {
   "cell_type": "markdown",
   "metadata": {},
   "source": [
    "# Grouping the Movie Ratings Pairs\n",
    "\n",
    "\n",
    "Now that we have a table with movie pairs ratings, we want to group them together per unique movie pair. The idea is that the ratings data contained ratings of the same movie pair from many users.\n",
    "\n",
    "The grouped data looks like this:\n",
    "\n",
    "$movie 1| movie 2 | [(rating_{11}, rating_{21}), (rating_{12}, rating_{22}), (rating_{13}, rating_{23}), ...]$\n",
    "\n",
    "The third column of the grouped data contains a list (a group) of ratings that all correspond to the same movie pair. Each element of the group corresponds to a specific user that rated both movie 1 and movie 2. \n",
    "\n",
    "If a movie pair has many elements in the corresponding group, it means that many different users have rated that specific movie pair."
   ]
  },
  {
   "cell_type": "code",
   "execution_count": 13,
   "metadata": {},
   "outputs": [],
   "source": [
    "ratings_grouped = ratings_filtered.groupby(by=['movie_1', 'movie_2'])"
   ]
  },
  {
   "cell_type": "code",
   "execution_count": 14,
   "metadata": {},
   "outputs": [
    {
     "data": {
      "text/html": [
       "<div>\n",
       "<style scoped>\n",
       "    .dataframe tbody tr th:only-of-type {\n",
       "        vertical-align: middle;\n",
       "    }\n",
       "\n",
       "    .dataframe tbody tr th {\n",
       "        vertical-align: top;\n",
       "    }\n",
       "\n",
       "    .dataframe thead th {\n",
       "        text-align: right;\n",
       "    }\n",
       "</style>\n",
       "<table border=\"1\" class=\"dataframe\">\n",
       "  <thead>\n",
       "    <tr style=\"text-align: right;\">\n",
       "      <th></th>\n",
       "      <th>movie_1</th>\n",
       "      <th>rating_1</th>\n",
       "      <th>movie_2</th>\n",
       "      <th>rating_2</th>\n",
       "    </tr>\n",
       "  </thead>\n",
       "  <tbody>\n",
       "    <tr>\n",
       "      <th>1</th>\n",
       "      <td>89</td>\n",
       "      <td>4</td>\n",
       "      <td>172</td>\n",
       "      <td>5</td>\n",
       "    </tr>\n",
       "    <tr>\n",
       "      <th>2</th>\n",
       "      <td>89</td>\n",
       "      <td>4</td>\n",
       "      <td>191</td>\n",
       "      <td>4</td>\n",
       "    </tr>\n",
       "    <tr>\n",
       "      <th>3</th>\n",
       "      <td>89</td>\n",
       "      <td>4</td>\n",
       "      <td>167</td>\n",
       "      <td>4</td>\n",
       "    </tr>\n",
       "    <tr>\n",
       "      <th>6</th>\n",
       "      <td>89</td>\n",
       "      <td>4</td>\n",
       "      <td>180</td>\n",
       "      <td>4</td>\n",
       "    </tr>\n",
       "    <tr>\n",
       "      <th>8</th>\n",
       "      <td>89</td>\n",
       "      <td>4</td>\n",
       "      <td>229</td>\n",
       "      <td>4</td>\n",
       "    </tr>\n",
       "    <tr>\n",
       "      <th>...</th>\n",
       "      <td>...</td>\n",
       "      <td>...</td>\n",
       "      <td>...</td>\n",
       "      <td>...</td>\n",
       "    </tr>\n",
       "    <tr>\n",
       "      <th>2105207</th>\n",
       "      <td>189</td>\n",
       "      <td>5</td>\n",
       "      <td>253</td>\n",
       "      <td>3</td>\n",
       "    </tr>\n",
       "    <tr>\n",
       "      <th>2185246</th>\n",
       "      <td>84</td>\n",
       "      <td>3</td>\n",
       "      <td>165</td>\n",
       "      <td>3</td>\n",
       "    </tr>\n",
       "    <tr>\n",
       "      <th>2664465</th>\n",
       "      <td>80</td>\n",
       "      <td>1</td>\n",
       "      <td>247</td>\n",
       "      <td>1</td>\n",
       "    </tr>\n",
       "    <tr>\n",
       "      <th>2851410</th>\n",
       "      <td>86</td>\n",
       "      <td>4</td>\n",
       "      <td>189</td>\n",
       "      <td>1</td>\n",
       "    </tr>\n",
       "    <tr>\n",
       "      <th>3280134</th>\n",
       "      <td>81</td>\n",
       "      <td>1</td>\n",
       "      <td>189</td>\n",
       "      <td>4</td>\n",
       "    </tr>\n",
       "  </tbody>\n",
       "</table>\n",
       "<p>65280 rows × 4 columns</p>\n",
       "</div>"
      ],
      "text/plain": [
       "         movie_1  rating_1  movie_2  rating_2\n",
       "1             89         4      172         5\n",
       "2             89         4      191         4\n",
       "3             89         4      167         4\n",
       "6             89         4      180         4\n",
       "8             89         4      229         4\n",
       "...          ...       ...      ...       ...\n",
       "2105207      189         5      253         3\n",
       "2185246       84         3      165         3\n",
       "2664465       80         1      247         1\n",
       "2851410       86         4      189         1\n",
       "3280134       81         1      189         4\n",
       "\n",
       "[65280 rows x 4 columns]"
      ]
     },
     "execution_count": 14,
     "metadata": {},
     "output_type": "execute_result"
    }
   ],
   "source": [
    "ratings_grouped.head(2)"
   ]
  },
  {
   "cell_type": "code",
   "execution_count": 15,
   "metadata": {},
   "outputs": [
    {
     "data": {
      "text/plain": [
       "32640"
      ]
     },
     "execution_count": 15,
     "metadata": {},
     "output_type": "execute_result"
    }
   ],
   "source": [
    "len(ratings_grouped)"
   ]
  },
  {
   "cell_type": "markdown",
   "metadata": {},
   "source": [
    "# Counting the co-occurrences of grouped movie pair ratings\n",
    "\n",
    "We can now count how many ratings we found for a pair of movies, aka the co-occurrences for movie pairs.\n",
    "\n",
    "Co-occurrences indicate how many different users have rated the same pair of movies. If many people rated the same pair of movies, it may indicate the 2 movies share some similarities."
   ]
  },
  {
   "cell_type": "code",
   "execution_count": 16,
   "metadata": {},
   "outputs": [],
   "source": [
    "cooccurrence = ratings_grouped.size().to_frame('cooccurrence')"
   ]
  },
  {
   "cell_type": "code",
   "execution_count": 17,
   "metadata": {},
   "outputs": [
    {
     "data": {
      "text/html": [
       "<div>\n",
       "<style scoped>\n",
       "    .dataframe tbody tr th:only-of-type {\n",
       "        vertical-align: middle;\n",
       "    }\n",
       "\n",
       "    .dataframe tbody tr th {\n",
       "        vertical-align: top;\n",
       "    }\n",
       "\n",
       "    .dataframe thead th {\n",
       "        text-align: right;\n",
       "    }\n",
       "</style>\n",
       "<table border=\"1\" class=\"dataframe\">\n",
       "  <thead>\n",
       "    <tr style=\"text-align: right;\">\n",
       "      <th></th>\n",
       "      <th></th>\n",
       "      <th>cooccurrence</th>\n",
       "    </tr>\n",
       "    <tr>\n",
       "      <th>movie_1</th>\n",
       "      <th>movie_2</th>\n",
       "      <th></th>\n",
       "    </tr>\n",
       "  </thead>\n",
       "  <tbody>\n",
       "    <tr>\n",
       "      <th rowspan=\"5\" valign=\"top\">0</th>\n",
       "      <th>1</th>\n",
       "      <td>163</td>\n",
       "    </tr>\n",
       "    <tr>\n",
       "      <th>2</th>\n",
       "      <td>156</td>\n",
       "    </tr>\n",
       "    <tr>\n",
       "      <th>3</th>\n",
       "      <td>91</td>\n",
       "    </tr>\n",
       "    <tr>\n",
       "      <th>4</th>\n",
       "      <td>112</td>\n",
       "    </tr>\n",
       "    <tr>\n",
       "      <th>5</th>\n",
       "      <td>50</td>\n",
       "    </tr>\n",
       "  </tbody>\n",
       "</table>\n",
       "</div>"
      ],
      "text/plain": [
       "                 cooccurrence\n",
       "movie_1 movie_2              \n",
       "0       1                 163\n",
       "        2                 156\n",
       "        3                  91\n",
       "        4                 112\n",
       "        5                  50"
      ]
     },
     "execution_count": 17,
     "metadata": {},
     "output_type": "execute_result"
    }
   ],
   "source": [
    "cooccurrence.head()"
   ]
  },
  {
   "cell_type": "code",
   "execution_count": 18,
   "metadata": {},
   "outputs": [
    {
     "data": {
      "text/html": [
       "<div>\n",
       "<style scoped>\n",
       "    .dataframe tbody tr th:only-of-type {\n",
       "        vertical-align: middle;\n",
       "    }\n",
       "\n",
       "    .dataframe tbody tr th {\n",
       "        vertical-align: top;\n",
       "    }\n",
       "\n",
       "    .dataframe thead th {\n",
       "        text-align: right;\n",
       "    }\n",
       "</style>\n",
       "<table border=\"1\" class=\"dataframe\">\n",
       "  <thead>\n",
       "    <tr style=\"text-align: right;\">\n",
       "      <th></th>\n",
       "      <th>cooccurrence</th>\n",
       "    </tr>\n",
       "  </thead>\n",
       "  <tbody>\n",
       "    <tr>\n",
       "      <th>count</th>\n",
       "      <td>32640.000000</td>\n",
       "    </tr>\n",
       "    <tr>\n",
       "      <th>mean</th>\n",
       "      <td>187.800582</td>\n",
       "    </tr>\n",
       "    <tr>\n",
       "      <th>std</th>\n",
       "      <td>101.145307</td>\n",
       "    </tr>\n",
       "    <tr>\n",
       "      <th>min</th>\n",
       "      <td>10.000000</td>\n",
       "    </tr>\n",
       "    <tr>\n",
       "      <th>25%</th>\n",
       "      <td>115.000000</td>\n",
       "    </tr>\n",
       "    <tr>\n",
       "      <th>50%</th>\n",
       "      <td>167.000000</td>\n",
       "    </tr>\n",
       "    <tr>\n",
       "      <th>75%</th>\n",
       "      <td>238.000000</td>\n",
       "    </tr>\n",
       "    <tr>\n",
       "      <th>max</th>\n",
       "      <td>926.000000</td>\n",
       "    </tr>\n",
       "  </tbody>\n",
       "</table>\n",
       "</div>"
      ],
      "text/plain": [
       "       cooccurrence\n",
       "count  32640.000000\n",
       "mean     187.800582\n",
       "std      101.145307\n",
       "min       10.000000\n",
       "25%      115.000000\n",
       "50%      167.000000\n",
       "75%      238.000000\n",
       "max      926.000000"
      ]
     },
     "execution_count": 18,
     "metadata": {},
     "output_type": "execute_result"
    }
   ],
   "source": [
    "cooccurrence.describe()"
   ]
  },
  {
   "cell_type": "markdown",
   "metadata": {},
   "source": [
    "# Computing movie similarity \n",
    "\n",
    "With a group of movie ratings, we can also compute the similarity in ratings. The idea is to quantify how similar the ratings of a pair of movies are across all the users that have rated them. If movies are rated very similarly across all the users, perhaps it means the movies are similar as well.\n",
    "\n",
    "Here, we use cosine similarity to quantify the similarity between movie ratings. Remember that a group of movie pair ratings consists of the following data:\n",
    "\n",
    "`[(rating 11, rating21), (rating 12, rating 22), (rating 13, rating 23), ...]`\n",
    "\n",
    "with the first element of the tuple corresponding to the rating of the first movie of the movie pair and the second element of the tuple correspondig to the rating of the second movie of the same movie pair.\n",
    "\n",
    "To compute the similarity, we first construct 2 vectors of ratings. The first vector holds all the ratings of the first movie. The second vector holds all the ratings of the second movie within the same movie pair.\n",
    "\n",
    "`a = [rating 11, rating 12, rating 13, ...]`\n",
    "\n",
    "`b = [rating 21, rating 22, rating 23, ...]`\n",
    "\n",
    "The cosine similarity metric uses the following formula to compute the similarity:\n",
    "\n",
    "\\begin{equation*}\n",
    "    cosine = \\frac{a \\cdot b}{||a|| \\cdot ||b||}\n",
    "\\end{equation*}\n",
    "\n",
    "with \n",
    "- $a \\cdot b$ the element-wise (dot) product of the vector elements\n",
    "- $||x||$ the L2-norm of the vector\n",
    "\n",
    "Since all the ratings are strictly positive, the cosine similarity metric will obtain a value between `0` (not similar at all) and `1` (very similar). \n",
    "\n",
    "More information on cosine similarity can be found here: https://en.wikipedia.org/wiki/Cosine_similarity\n"
   ]
  },
  {
   "cell_type": "code",
   "execution_count": 19,
   "metadata": {},
   "outputs": [],
   "source": [
    "def similarity(group_of_movie_ratings):\n",
    "    \"\"\"\n",
    "    \n",
    "    Cosine similarity measure, implemented through numpy functions.\n",
    "    \n",
    "    Accepts a DataFrame with 2 columns: ratings_1, ratings_2\n",
    "    \n",
    "    Returns a float\n",
    "    \"\"\"\n",
    "    a = group_of_movie_ratings['rating_1'].values\n",
    "    b = group_of_movie_ratings['rating_2'].values\n",
    "\n",
    "    cos_sim = dot(a, b)/(norm(a)*norm(b))\n",
    "\n",
    "    return cos_sim"
   ]
  },
  {
   "cell_type": "markdown",
   "metadata": {},
   "source": [
    "The similarity measure must be computed for each group of movie pair ratings. In this notebook, the similarity computation is the most computationally intensive operation."
   ]
  },
  {
   "cell_type": "code",
   "execution_count": 20,
   "metadata": {},
   "outputs": [
    {
     "name": "stdout",
     "output_type": "stream",
     "text": [
      "Wall time: 3.32 s\n"
     ]
    }
   ],
   "source": [
    "%%time\n",
    "\n",
    "# calculate similarity for each group\n",
    "ratings_similar = ratings_grouped.apply(similarity)"
   ]
  },
  {
   "cell_type": "code",
   "execution_count": 21,
   "metadata": {},
   "outputs": [],
   "source": [
    "# convert Series with MultiIndex to a DataFrame, give column a name\n",
    "ratings_similar = ratings_similar.to_frame('similarity')"
   ]
  },
  {
   "cell_type": "code",
   "execution_count": 22,
   "metadata": {},
   "outputs": [
    {
     "data": {
      "text/html": [
       "<div>\n",
       "<style scoped>\n",
       "    .dataframe tbody tr th:only-of-type {\n",
       "        vertical-align: middle;\n",
       "    }\n",
       "\n",
       "    .dataframe tbody tr th {\n",
       "        vertical-align: top;\n",
       "    }\n",
       "\n",
       "    .dataframe thead th {\n",
       "        text-align: right;\n",
       "    }\n",
       "</style>\n",
       "<table border=\"1\" class=\"dataframe\">\n",
       "  <thead>\n",
       "    <tr style=\"text-align: right;\">\n",
       "      <th></th>\n",
       "      <th></th>\n",
       "      <th>similarity</th>\n",
       "    </tr>\n",
       "    <tr>\n",
       "      <th>movie_1</th>\n",
       "      <th>movie_2</th>\n",
       "      <th></th>\n",
       "    </tr>\n",
       "  </thead>\n",
       "  <tbody>\n",
       "    <tr>\n",
       "      <th rowspan=\"5\" valign=\"top\">0</th>\n",
       "      <th>1</th>\n",
       "      <td>0.019128</td>\n",
       "    </tr>\n",
       "    <tr>\n",
       "      <th>2</th>\n",
       "      <td>0.029453</td>\n",
       "    </tr>\n",
       "    <tr>\n",
       "      <th>3</th>\n",
       "      <td>0.035357</td>\n",
       "    </tr>\n",
       "    <tr>\n",
       "      <th>4</th>\n",
       "      <td>0.007608</td>\n",
       "    </tr>\n",
       "    <tr>\n",
       "      <th>5</th>\n",
       "      <td>0.335719</td>\n",
       "    </tr>\n",
       "  </tbody>\n",
       "</table>\n",
       "</div>"
      ],
      "text/plain": [
       "                 similarity\n",
       "movie_1 movie_2            \n",
       "0       1          0.019128\n",
       "        2          0.029453\n",
       "        3          0.035357\n",
       "        4          0.007608\n",
       "        5          0.335719"
      ]
     },
     "execution_count": 22,
     "metadata": {},
     "output_type": "execute_result"
    }
   ],
   "source": [
    "ratings_similar.head()"
   ]
  },
  {
   "cell_type": "markdown",
   "metadata": {},
   "source": [
    "# Bundling the 2 similarity measures together\n",
    "\n",
    "We now have 2 similarity measures:\n",
    "- the number of co-occurrences for a movie pair\n",
    "- the similarity measure of the ratings of a movie pair\n",
    "\n",
    "We put them together into a table:"
   ]
  },
  {
   "cell_type": "code",
   "execution_count": 23,
   "metadata": {},
   "outputs": [
    {
     "data": {
      "text/html": [
       "<div>\n",
       "<style scoped>\n",
       "    .dataframe tbody tr th:only-of-type {\n",
       "        vertical-align: middle;\n",
       "    }\n",
       "\n",
       "    .dataframe tbody tr th {\n",
       "        vertical-align: top;\n",
       "    }\n",
       "\n",
       "    .dataframe thead th {\n",
       "        text-align: right;\n",
       "    }\n",
       "</style>\n",
       "<table border=\"1\" class=\"dataframe\">\n",
       "  <thead>\n",
       "    <tr style=\"text-align: right;\">\n",
       "      <th></th>\n",
       "      <th></th>\n",
       "      <th>similarity</th>\n",
       "      <th>cooccurrence</th>\n",
       "    </tr>\n",
       "    <tr>\n",
       "      <th>movie_1</th>\n",
       "      <th>movie_2</th>\n",
       "      <th></th>\n",
       "      <th></th>\n",
       "    </tr>\n",
       "  </thead>\n",
       "  <tbody>\n",
       "    <tr>\n",
       "      <th rowspan=\"5\" valign=\"top\">0</th>\n",
       "      <th>1</th>\n",
       "      <td>0.019128</td>\n",
       "      <td>163</td>\n",
       "    </tr>\n",
       "    <tr>\n",
       "      <th>2</th>\n",
       "      <td>0.029453</td>\n",
       "      <td>156</td>\n",
       "    </tr>\n",
       "    <tr>\n",
       "      <th>3</th>\n",
       "      <td>0.035357</td>\n",
       "      <td>91</td>\n",
       "    </tr>\n",
       "    <tr>\n",
       "      <th>4</th>\n",
       "      <td>0.007608</td>\n",
       "      <td>112</td>\n",
       "    </tr>\n",
       "    <tr>\n",
       "      <th>5</th>\n",
       "      <td>0.335719</td>\n",
       "      <td>50</td>\n",
       "    </tr>\n",
       "  </tbody>\n",
       "</table>\n",
       "</div>"
      ],
      "text/plain": [
       "                 similarity  cooccurrence\n",
       "movie_1 movie_2                          \n",
       "0       1          0.019128           163\n",
       "        2          0.029453           156\n",
       "        3          0.035357            91\n",
       "        4          0.007608           112\n",
       "        5          0.335719            50"
      ]
     },
     "execution_count": 23,
     "metadata": {},
     "output_type": "execute_result"
    }
   ],
   "source": [
    "df = pd.concat([ratings_similar, cooccurrence], axis=1)\n",
    "df.head()"
   ]
  },
  {
   "cell_type": "code",
   "execution_count": 24,
   "metadata": {},
   "outputs": [
    {
     "data": {
      "text/plain": [
       "(32640, 2)"
      ]
     },
     "execution_count": 24,
     "metadata": {},
     "output_type": "execute_result"
    }
   ],
   "source": [
    "df.shape"
   ]
  },
  {
   "cell_type": "code",
   "execution_count": 25,
   "metadata": {},
   "outputs": [],
   "source": [
    "df = df.reset_index().sort_values(by=['cooccurrence', 'similarity'], ascending=False)"
   ]
  },
  {
   "cell_type": "code",
   "execution_count": 26,
   "metadata": {},
   "outputs": [
    {
     "data": {
      "text/html": [
       "<div>\n",
       "<style scoped>\n",
       "    .dataframe tbody tr th:only-of-type {\n",
       "        vertical-align: middle;\n",
       "    }\n",
       "\n",
       "    .dataframe tbody tr th {\n",
       "        vertical-align: top;\n",
       "    }\n",
       "\n",
       "    .dataframe thead th {\n",
       "        text-align: right;\n",
       "    }\n",
       "</style>\n",
       "<table border=\"1\" class=\"dataframe\">\n",
       "  <thead>\n",
       "    <tr style=\"text-align: right;\">\n",
       "      <th></th>\n",
       "      <th>movie_1</th>\n",
       "      <th>movie_2</th>\n",
       "      <th>similarity</th>\n",
       "      <th>cooccurrence</th>\n",
       "    </tr>\n",
       "  </thead>\n",
       "  <tbody>\n",
       "    <tr>\n",
       "      <th>255</th>\n",
       "      <td>1</td>\n",
       "      <td>2</td>\n",
       "      <td>0.017201</td>\n",
       "      <td>926</td>\n",
       "    </tr>\n",
       "    <tr>\n",
       "      <th>291</th>\n",
       "      <td>1</td>\n",
       "      <td>38</td>\n",
       "      <td>0.009674</td>\n",
       "      <td>896</td>\n",
       "    </tr>\n",
       "    <tr>\n",
       "      <th>268</th>\n",
       "      <td>1</td>\n",
       "      <td>15</td>\n",
       "      <td>0.010348</td>\n",
       "      <td>846</td>\n",
       "    </tr>\n",
       "    <tr>\n",
       "      <th>544</th>\n",
       "      <td>2</td>\n",
       "      <td>38</td>\n",
       "      <td>0.014374</td>\n",
       "      <td>832</td>\n",
       "    </tr>\n",
       "    <tr>\n",
       "      <th>3742</th>\n",
       "      <td>15</td>\n",
       "      <td>38</td>\n",
       "      <td>0.022075</td>\n",
       "      <td>829</td>\n",
       "    </tr>\n",
       "  </tbody>\n",
       "</table>\n",
       "</div>"
      ],
      "text/plain": [
       "      movie_1  movie_2  similarity  cooccurrence\n",
       "255         1        2    0.017201           926\n",
       "291         1       38    0.009674           896\n",
       "268         1       15    0.010348           846\n",
       "544         2       38    0.014374           832\n",
       "3742       15       38    0.022075           829"
      ]
     },
     "execution_count": 26,
     "metadata": {},
     "output_type": "execute_result"
    }
   ],
   "source": [
    "df.head()"
   ]
  },
  {
   "cell_type": "code",
   "execution_count": 27,
   "metadata": {},
   "outputs": [],
   "source": [
    "df.to_csv('../result.csv', index=False)"
   ]
  },
  {
   "cell_type": "code",
   "execution_count": 28,
   "metadata": {},
   "outputs": [],
   "source": [
    "movie_names = read_names(MOVIE_NAMES_PATH)"
   ]
  },
  {
   "cell_type": "markdown",
   "metadata": {},
   "source": [
    "# Recommending movies\n",
    "\n",
    "We have a similarity and co-occurrence measure for every available pair of movies in our ratings data. We can use this data to recommend movies.\n",
    "\n",
    "The recipe for recommendation goes as follows:\n",
    "- Provide a movie that you have seen.\n",
    "- Look up all the movie pairs this movie appears in.\n",
    "- Sort the movie pairs of the seen movie based on the co-occurrence and similarity measures.\n",
    "- Return a list of top n of movie pairs with the highest co-occurrence / similarity measures.\n",
    "\n",
    "So, we have 2 measures that we can use to recommend movies: co-occurrence and cosine similarity. \n",
    "\n",
    "__Why don't we just use cosine similarity?__\n",
    "\n",
    "Well, if the cosine similarity measure is based on a very low number of movie ratings, the similarity measure is probably not as trustworthy. So, we will only trust the similarity measure if there have been enough ratings for that movie pair. So we use the co-occurrence count as a minimum threshold. Only recommend a movie if it has appeared with a sufficiently large number of other movies.\n",
    "\n",
    "Other _edge cases_ of the recommender system:\n",
    "- each movie that we want recommendations for must appear in the original set of movie ratings. Since the MovieLens dataset is recorded in the late '90s, movies that have appeared after that date will not appear in the ratings data. So, the recommender system cannot make recommendations on those movies.\n",
    "- even if a movie appears in the original MovieLens dataset, there's no guarantee recommendations can be made for that movie. For example, if the movie has never been rated by a user that also rated other movies, no recommendation can be made. It is as if this movie is an outlier."
   ]
  },
  {
   "cell_type": "code",
   "execution_count": 29,
   "metadata": {},
   "outputs": [],
   "source": [
    "def recommend(\n",
    "    movie_id, \n",
    "    ratings, \n",
    "    names, \n",
    "    min_cooccurrence=50, \n",
    "    top=5):\n",
    "    \"\"\"\n",
    "    \n",
    "    Make movie recommendations for the given movie.\n",
    "    \n",
    "    Input:\n",
    "    - ratings: the movie ratings with similarity measures\n",
    "    - movie_id: the movie id for which you want recommendations\n",
    "    - names: a mapping of movie id -> movie name\n",
    "    - min_count: the minimum threshold for co-occurrence\n",
    "    - top: the number of recommendations to make\n",
    "    \n",
    "    Returns:\n",
    "    None\n",
    "    \"\"\"\n",
    "    \n",
    "    # filter based on given movie, minimum occurrence\n",
    "    recomm = ratings.loc[\n",
    "        ((ratings.movie_1 == movie_id) | \\\n",
    "        (ratings.movie_2 == movie_id)) & \\\n",
    "        (ratings.cooccurrence >= min_cooccurrence)]\n",
    "    \n",
    "    # sort by similarity measure\n",
    "    recomm = recomm.sort_values(by=['similarity'], ascending=False)\n",
    "    \n",
    "    # keep top n recommendations\n",
    "    recomm = recomm.head(top).reset_index(drop=True)\n",
    "    \n",
    "    # edge cases\n",
    "    if len(recomm) == 0:\n",
    "        print('No recommendations for movie id {}...'.format(movie_id))\n",
    "        return\n",
    "    else:\n",
    "        # check if the recommended movie id corresponds to first or second movie\n",
    "        recomm['recommended_movie'] = recomm.apply(lambda row: row.movie_2 if row.movie_1 == movie_id \n",
    "                                          else row.movie_1 , axis=1)\n",
    "        \n",
    "        recomm['recommended_movie'] = recomm['recommended_movie'].astype(int)\n",
    "        \n",
    "        # find movie title for the movie_id\n",
    "        recomm['title'] = recomm['recommended_movie'].apply(lambda d: names[d])\n",
    "                        \n",
    "        return recomm[['recommended_movie', 'title', 'similarity', 'cooccurrence']]"
   ]
  },
  {
   "cell_type": "code",
   "execution_count": 30,
   "metadata": {},
   "outputs": [],
   "source": [
    "movie_id = 10\n",
    "min_cooccurrence=50\n",
    "top=5\n",
    "recommendations = recommend(movie_id, df, movie_names, min_cooccurrence, top)"
   ]
  },
  {
   "cell_type": "code",
   "execution_count": 31,
   "metadata": {},
   "outputs": [
    {
     "data": {
      "text/plain": [
       "'Richard III (1995)'"
      ]
     },
     "execution_count": 31,
     "metadata": {},
     "output_type": "execute_result"
    }
   ],
   "source": [
    "movie_names[movie_id]"
   ]
  },
  {
   "cell_type": "code",
   "execution_count": 32,
   "metadata": {},
   "outputs": [
    {
     "data": {
      "text/html": [
       "<div>\n",
       "<style scoped>\n",
       "    .dataframe tbody tr th:only-of-type {\n",
       "        vertical-align: middle;\n",
       "    }\n",
       "\n",
       "    .dataframe tbody tr th {\n",
       "        vertical-align: top;\n",
       "    }\n",
       "\n",
       "    .dataframe thead th {\n",
       "        text-align: right;\n",
       "    }\n",
       "</style>\n",
       "<table border=\"1\" class=\"dataframe\">\n",
       "  <thead>\n",
       "    <tr style=\"text-align: right;\">\n",
       "      <th></th>\n",
       "      <th>recommended_movie</th>\n",
       "      <th>title</th>\n",
       "      <th>similarity</th>\n",
       "      <th>cooccurrence</th>\n",
       "    </tr>\n",
       "  </thead>\n",
       "  <tbody>\n",
       "    <tr>\n",
       "      <th>0</th>\n",
       "      <td>112</td>\n",
       "      <td>Flipper (1996)</td>\n",
       "      <td>0.390118</td>\n",
       "      <td>51</td>\n",
       "    </tr>\n",
       "    <tr>\n",
       "      <th>1</th>\n",
       "      <td>104</td>\n",
       "      <td>Theodore Rex (1995)</td>\n",
       "      <td>0.388450</td>\n",
       "      <td>50</td>\n",
       "    </tr>\n",
       "    <tr>\n",
       "      <th>2</th>\n",
       "      <td>40</td>\n",
       "      <td>To Wong Foo, Thanks for Everything! Julie Newm...</td>\n",
       "      <td>0.326308</td>\n",
       "      <td>50</td>\n",
       "    </tr>\n",
       "    <tr>\n",
       "      <th>3</th>\n",
       "      <td>80</td>\n",
       "      <td>Hot Shots! Part Deux (1993)</td>\n",
       "      <td>0.314278</td>\n",
       "      <td>52</td>\n",
       "    </tr>\n",
       "    <tr>\n",
       "      <th>4</th>\n",
       "      <td>81</td>\n",
       "      <td>Hudsucker Proxy, The (1994)</td>\n",
       "      <td>0.288182</td>\n",
       "      <td>67</td>\n",
       "    </tr>\n",
       "  </tbody>\n",
       "</table>\n",
       "</div>"
      ],
      "text/plain": [
       "   recommended_movie                                              title  \\\n",
       "0                112                                     Flipper (1996)   \n",
       "1                104                                Theodore Rex (1995)   \n",
       "2                 40  To Wong Foo, Thanks for Everything! Julie Newm...   \n",
       "3                 80                        Hot Shots! Part Deux (1993)   \n",
       "4                 81                        Hudsucker Proxy, The (1994)   \n",
       "\n",
       "   similarity  cooccurrence  \n",
       "0    0.390118            51  \n",
       "1    0.388450            50  \n",
       "2    0.326308            50  \n",
       "3    0.314278            52  \n",
       "4    0.288182            67  "
      ]
     },
     "execution_count": 32,
     "metadata": {},
     "output_type": "execute_result"
    }
   ],
   "source": [
    "recommendations"
   ]
  },
  {
   "cell_type": "code",
   "execution_count": null,
   "metadata": {},
   "outputs": [],
   "source": []
  }
 ],
 "metadata": {
  "kernelspec": {
   "display_name": "Python 3",
   "language": "python",
   "name": "python3"
  },
  "language_info": {
   "codemirror_mode": {
    "name": "ipython",
    "version": 3
   },
   "file_extension": ".py",
   "mimetype": "text/x-python",
   "name": "python",
   "nbconvert_exporter": "python",
   "pygments_lexer": "ipython3",
   "version": "3.8.3"
  }
 },
 "nbformat": 4,
 "nbformat_minor": 2
}
